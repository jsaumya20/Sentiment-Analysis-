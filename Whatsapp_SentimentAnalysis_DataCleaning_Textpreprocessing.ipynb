{
 "cells": [
  {
   "cell_type": "code",
   "execution_count": 1,
   "metadata": {},
   "outputs": [],
   "source": [
    "\n",
    "import pandas as pd \n",
    "import numpy as np \n",
    "\n",
    "# Visualizations\n",
    "import matplotlib.pyplot as plt\n",
    "from matplotlib.colors import ListedColormap\n",
    "import seaborn as sns\n",
    "import matplotlib.colors as colors\n",
    "%matplotlib inline\n",
    "\n",
    "# Datetime\n",
    "from datetime import datetime\n",
    "\n",
    "## Warnings\n",
    "import warnings\n",
    "from scipy import stats\n",
    "warnings.filterwarnings('ignore')\n",
    "\n",
    "# Large dataset\n",
    "import dask.bag as db"
   ]
  },
  {
   "cell_type": "code",
   "execution_count": 2,
   "metadata": {},
   "outputs": [
    {
     "data": {
      "text/html": [
       "<div>\n",
       "<style scoped>\n",
       "    .dataframe tbody tr th:only-of-type {\n",
       "        vertical-align: middle;\n",
       "    }\n",
       "\n",
       "    .dataframe tbody tr th {\n",
       "        vertical-align: top;\n",
       "    }\n",
       "\n",
       "    .dataframe thead th {\n",
       "        text-align: right;\n",
       "    }\n",
       "</style>\n",
       "<table border=\"1\" class=\"dataframe\">\n",
       "  <thead>\n",
       "    <tr style=\"text-align: right;\">\n",
       "      <th></th>\n",
       "      <th>reviewId</th>\n",
       "      <th>userName</th>\n",
       "      <th>userImage</th>\n",
       "      <th>content</th>\n",
       "      <th>score</th>\n",
       "      <th>thumbsUpCount</th>\n",
       "      <th>reviewCreatedVersion</th>\n",
       "      <th>at</th>\n",
       "      <th>replyContent</th>\n",
       "      <th>repliedAt</th>\n",
       "    </tr>\n",
       "  </thead>\n",
       "  <tbody>\n",
       "    <tr>\n",
       "      <th>0</th>\n",
       "      <td>be6a53e4-9b9e-4ae6-86ea-50b2d8096608</td>\n",
       "      <td>Charles Ojegbulu</td>\n",
       "      <td>https://play-lh.googleusercontent.com/a/AItbvm...</td>\n",
       "      <td>Awesome</td>\n",
       "      <td>5</td>\n",
       "      <td>0</td>\n",
       "      <td>2.22.13.76</td>\n",
       "      <td>8/2/2022 17:00</td>\n",
       "      <td>NaN</td>\n",
       "      <td>NaN</td>\n",
       "    </tr>\n",
       "    <tr>\n",
       "      <th>1</th>\n",
       "      <td>eb61677d-f0ab-4f65-84ea-898e745930e7</td>\n",
       "      <td>Linet Kendi</td>\n",
       "      <td>https://play-lh.googleusercontent.com/a/AItbvm...</td>\n",
       "      <td>It was the best</td>\n",
       "      <td>5</td>\n",
       "      <td>0</td>\n",
       "      <td>2.22.3.77</td>\n",
       "      <td>8/2/2022 17:00</td>\n",
       "      <td>NaN</td>\n",
       "      <td>NaN</td>\n",
       "    </tr>\n",
       "    <tr>\n",
       "      <th>2</th>\n",
       "      <td>7a73726f-e86f-4026-8afc-f6afb73874bc</td>\n",
       "      <td>Veronica James</td>\n",
       "      <td>https://play-lh.googleusercontent.com/a/AItbvm...</td>\n",
       "      <td>Is so beautiful whatsapp</td>\n",
       "      <td>5</td>\n",
       "      <td>0</td>\n",
       "      <td>2.22.9.78</td>\n",
       "      <td>8/2/2022 17:00</td>\n",
       "      <td>NaN</td>\n",
       "      <td>NaN</td>\n",
       "    </tr>\n",
       "    <tr>\n",
       "      <th>3</th>\n",
       "      <td>33ccef53-d635-4dcf-8613-1c06971e95d0</td>\n",
       "      <td>Ggbeko Shigmah</td>\n",
       "      <td>https://play-lh.googleusercontent.com/a/AItbvm...</td>\n",
       "      <td>It really helpful and fast</td>\n",
       "      <td>5</td>\n",
       "      <td>0</td>\n",
       "      <td>NaN</td>\n",
       "      <td>8/2/2022 17:00</td>\n",
       "      <td>NaN</td>\n",
       "      <td>NaN</td>\n",
       "    </tr>\n",
       "    <tr>\n",
       "      <th>4</th>\n",
       "      <td>93566307-5fa6-4a39-9fd5-b0f3aa87e9ac</td>\n",
       "      <td>Rudra Awasthi</td>\n",
       "      <td>https://play-lh.googleusercontent.com/a/AItbvm...</td>\n",
       "      <td>Very useful for us no another words</td>\n",
       "      <td>5</td>\n",
       "      <td>0</td>\n",
       "      <td>2.22.15.74</td>\n",
       "      <td>8/2/2022 17:00</td>\n",
       "      <td>NaN</td>\n",
       "      <td>NaN</td>\n",
       "    </tr>\n",
       "  </tbody>\n",
       "</table>\n",
       "</div>"
      ],
      "text/plain": [
       "                               reviewId          userName  \\\n",
       "0  be6a53e4-9b9e-4ae6-86ea-50b2d8096608  Charles Ojegbulu   \n",
       "1  eb61677d-f0ab-4f65-84ea-898e745930e7       Linet Kendi   \n",
       "2  7a73726f-e86f-4026-8afc-f6afb73874bc    Veronica James   \n",
       "3  33ccef53-d635-4dcf-8613-1c06971e95d0    Ggbeko Shigmah   \n",
       "4  93566307-5fa6-4a39-9fd5-b0f3aa87e9ac     Rudra Awasthi   \n",
       "\n",
       "                                           userImage  \\\n",
       "0  https://play-lh.googleusercontent.com/a/AItbvm...   \n",
       "1  https://play-lh.googleusercontent.com/a/AItbvm...   \n",
       "2  https://play-lh.googleusercontent.com/a/AItbvm...   \n",
       "3  https://play-lh.googleusercontent.com/a/AItbvm...   \n",
       "4  https://play-lh.googleusercontent.com/a/AItbvm...   \n",
       "\n",
       "                               content  score  thumbsUpCount  \\\n",
       "0                              Awesome      5              0   \n",
       "1                      It was the best      5              0   \n",
       "2             Is so beautiful whatsapp      5              0   \n",
       "3           It really helpful and fast      5              0   \n",
       "4  Very useful for us no another words      5              0   \n",
       "\n",
       "  reviewCreatedVersion              at  replyContent  repliedAt  \n",
       "0           2.22.13.76  8/2/2022 17:00           NaN        NaN  \n",
       "1            2.22.3.77  8/2/2022 17:00           NaN        NaN  \n",
       "2            2.22.9.78  8/2/2022 17:00           NaN        NaN  \n",
       "3                  NaN  8/2/2022 17:00           NaN        NaN  \n",
       "4           2.22.15.74  8/2/2022 17:00           NaN        NaN  "
      ]
     },
     "execution_count": 2,
     "metadata": {},
     "output_type": "execute_result"
    }
   ],
   "source": [
    "whatsappData = pd.read_csv(\"whatsappgoogle_play_store.csv\")\n",
    "whatsappData.head()"
   ]
  },
  {
   "cell_type": "code",
   "execution_count": 3,
   "metadata": {},
   "outputs": [
    {
     "name": "stdout",
     "output_type": "stream",
     "text": [
      "<class 'pandas.core.frame.DataFrame'>\n",
      "RangeIndex: 804756 entries, 0 to 804755\n",
      "Data columns (total 10 columns):\n",
      " #   Column                Non-Null Count   Dtype  \n",
      "---  ------                --------------   -----  \n",
      " 0   reviewId              804752 non-null  object \n",
      " 1   userName              804756 non-null  object \n",
      " 2   userImage             804756 non-null  object \n",
      " 3   content               804714 non-null  object \n",
      " 4   score                 804756 non-null  int64  \n",
      " 5   thumbsUpCount         804756 non-null  int64  \n",
      " 6   reviewCreatedVersion  661675 non-null  object \n",
      " 7   at                    804756 non-null  object \n",
      " 8   replyContent          0 non-null       float64\n",
      " 9   repliedAt             0 non-null       float64\n",
      "dtypes: float64(2), int64(2), object(6)\n",
      "memory usage: 61.4+ MB\n"
     ]
    }
   ],
   "source": [
    "whatsappData.info()"
   ]
  },
  {
   "cell_type": "code",
   "execution_count": 4,
   "metadata": {},
   "outputs": [
    {
     "data": {
      "text/plain": [
       "(804756, 10)"
      ]
     },
     "execution_count": 4,
     "metadata": {},
     "output_type": "execute_result"
    }
   ],
   "source": [
    "whatsappData.shape"
   ]
  },
  {
   "cell_type": "code",
   "execution_count": 5,
   "metadata": {},
   "outputs": [
    {
     "data": {
      "text/plain": [
       "reviewId                     4\n",
       "userName                     0\n",
       "userImage                    0\n",
       "content                     42\n",
       "score                        0\n",
       "thumbsUpCount                0\n",
       "reviewCreatedVersion    143081\n",
       "at                           0\n",
       "replyContent            804756\n",
       "repliedAt               804756\n",
       "dtype: int64"
      ]
     },
     "execution_count": 5,
     "metadata": {},
     "output_type": "execute_result"
    }
   ],
   "source": [
    "##########################################\n",
    "## CHECKING FOR MISSING VALUES\n",
    "##########################################\n",
    "\n",
    "whatsappData.isnull().sum()"
   ]
  },
  {
   "cell_type": "code",
   "execution_count": 6,
   "metadata": {},
   "outputs": [
    {
     "data": {
      "text/html": [
       "<div>\n",
       "<style scoped>\n",
       "    .dataframe tbody tr th:only-of-type {\n",
       "        vertical-align: middle;\n",
       "    }\n",
       "\n",
       "    .dataframe tbody tr th {\n",
       "        vertical-align: top;\n",
       "    }\n",
       "\n",
       "    .dataframe thead th {\n",
       "        text-align: right;\n",
       "    }\n",
       "</style>\n",
       "<table border=\"1\" class=\"dataframe\">\n",
       "  <thead>\n",
       "    <tr style=\"text-align: right;\">\n",
       "      <th></th>\n",
       "      <th>userName</th>\n",
       "      <th>content</th>\n",
       "      <th>score</th>\n",
       "      <th>thumbsUpCount</th>\n",
       "      <th>reviewCreatedVersion</th>\n",
       "      <th>at</th>\n",
       "    </tr>\n",
       "  </thead>\n",
       "  <tbody>\n",
       "    <tr>\n",
       "      <th>0</th>\n",
       "      <td>Charles Ojegbulu</td>\n",
       "      <td>Awesome</td>\n",
       "      <td>5</td>\n",
       "      <td>0</td>\n",
       "      <td>2.22.13.76</td>\n",
       "      <td>8/2/2022 17:00</td>\n",
       "    </tr>\n",
       "    <tr>\n",
       "      <th>1</th>\n",
       "      <td>Linet Kendi</td>\n",
       "      <td>It was the best</td>\n",
       "      <td>5</td>\n",
       "      <td>0</td>\n",
       "      <td>2.22.3.77</td>\n",
       "      <td>8/2/2022 17:00</td>\n",
       "    </tr>\n",
       "    <tr>\n",
       "      <th>2</th>\n",
       "      <td>Veronica James</td>\n",
       "      <td>Is so beautiful whatsapp</td>\n",
       "      <td>5</td>\n",
       "      <td>0</td>\n",
       "      <td>2.22.9.78</td>\n",
       "      <td>8/2/2022 17:00</td>\n",
       "    </tr>\n",
       "    <tr>\n",
       "      <th>3</th>\n",
       "      <td>Ggbeko Shigmah</td>\n",
       "      <td>It really helpful and fast</td>\n",
       "      <td>5</td>\n",
       "      <td>0</td>\n",
       "      <td>NaN</td>\n",
       "      <td>8/2/2022 17:00</td>\n",
       "    </tr>\n",
       "    <tr>\n",
       "      <th>4</th>\n",
       "      <td>Rudra Awasthi</td>\n",
       "      <td>Very useful for us no another words</td>\n",
       "      <td>5</td>\n",
       "      <td>0</td>\n",
       "      <td>2.22.15.74</td>\n",
       "      <td>8/2/2022 17:00</td>\n",
       "    </tr>\n",
       "  </tbody>\n",
       "</table>\n",
       "</div>"
      ],
      "text/plain": [
       "           userName                              content  score  \\\n",
       "0  Charles Ojegbulu                              Awesome      5   \n",
       "1       Linet Kendi                      It was the best      5   \n",
       "2    Veronica James             Is so beautiful whatsapp      5   \n",
       "3    Ggbeko Shigmah           It really helpful and fast      5   \n",
       "4     Rudra Awasthi  Very useful for us no another words      5   \n",
       "\n",
       "   thumbsUpCount reviewCreatedVersion              at  \n",
       "0              0           2.22.13.76  8/2/2022 17:00  \n",
       "1              0            2.22.3.77  8/2/2022 17:00  \n",
       "2              0            2.22.9.78  8/2/2022 17:00  \n",
       "3              0                  NaN  8/2/2022 17:00  \n",
       "4              0           2.22.15.74  8/2/2022 17:00  "
      ]
     },
     "execution_count": 6,
     "metadata": {},
     "output_type": "execute_result"
    }
   ],
   "source": [
    "###########################\n",
    "## DROP IRRELAVENT COLUMNS\n",
    "###########################\n",
    "\n",
    "whatsappData.drop(columns=[\"reviewId\",\"userImage\",\"replyContent\",\"repliedAt\"], inplace = True)\n",
    "whatsappData.head()"
   ]
  },
  {
   "cell_type": "code",
   "execution_count": 9,
   "metadata": {},
   "outputs": [
    {
     "data": {
      "text/plain": [
       "Text(0, 0.5, 'Number of Reviews')"
      ]
     },
     "execution_count": 9,
     "metadata": {},
     "output_type": "execute_result"
    },
    {
     "data": {
      "image/png": "[encoded data removed]",
      "text/plain": [
       "<Figure size 864x576 with 1 Axes>"
      ]
     },
     "metadata": {
      "needs_background": "light"
     },
     "output_type": "display_data"
    }
   ],
   "source": [
    "plt.figure(figsize=(12,8))\n",
    "sns.countplot(whatsappData.score)\n",
    "plt.title('Distribution of Rating')\n",
    "plt.xlabel('Rating')\n",
    "plt.ylabel('Number of Reviews')"
   ]
  },
  {
   "cell_type": "code",
   "execution_count": 8,
   "metadata": {},
   "outputs": [
    {
     "data": {
      "text/plain": [
       "userName                     0\n",
       "content                      0\n",
       "score                        0\n",
       "thumbsUpCount                0\n",
       "reviewCreatedVersion    143080\n",
       "at                           0\n",
       "dtype: int64"
      ]
     },
     "execution_count": 8,
     "metadata": {},
     "output_type": "execute_result"
    }
   ],
   "source": [
    "whatsappData.dropna(subset=['content'], inplace =True)\n",
    "whatsappData.isnull().sum()"
   ]
  },
  {
   "cell_type": "markdown",
   "metadata": {},
   "source": [
    "we will ignore empty rows of reviewCreatedVersion column for now"
   ]
  },
  {
   "cell_type": "code",
   "execution_count": 11,
   "metadata": {},
   "outputs": [
    {
     "name": "stdout",
     "output_type": "stream",
     "text": [
      "Good ratings : 663983 reviews for Whatsapp App\n",
      "Bad ratings : 140731 reviews for Whatsapp App\n"
     ]
    },
    {
     "data": {
      "text/html": [
       "<div>\n",
       "<style scoped>\n",
       "    .dataframe tbody tr th:only-of-type {\n",
       "        vertical-align: middle;\n",
       "    }\n",
       "\n",
       "    .dataframe tbody tr th {\n",
       "        vertical-align: top;\n",
       "    }\n",
       "\n",
       "    .dataframe thead th {\n",
       "        text-align: right;\n",
       "    }\n",
       "</style>\n",
       "<table border=\"1\" class=\"dataframe\">\n",
       "  <thead>\n",
       "    <tr style=\"text-align: right;\">\n",
       "      <th></th>\n",
       "      <th>userName</th>\n",
       "      <th>content</th>\n",
       "      <th>score</th>\n",
       "      <th>thumbsUpCount</th>\n",
       "      <th>reviewCreatedVersion</th>\n",
       "      <th>at</th>\n",
       "      <th>rating_class</th>\n",
       "    </tr>\n",
       "  </thead>\n",
       "  <tbody>\n",
       "    <tr>\n",
       "      <th>0</th>\n",
       "      <td>Charles Ojegbulu</td>\n",
       "      <td>Awesome</td>\n",
       "      <td>5</td>\n",
       "      <td>0</td>\n",
       "      <td>2.22.13.76</td>\n",
       "      <td>8/2/2022 17:00</td>\n",
       "      <td>good</td>\n",
       "    </tr>\n",
       "    <tr>\n",
       "      <th>1</th>\n",
       "      <td>Linet Kendi</td>\n",
       "      <td>It was the best</td>\n",
       "      <td>5</td>\n",
       "      <td>0</td>\n",
       "      <td>2.22.3.77</td>\n",
       "      <td>8/2/2022 17:00</td>\n",
       "      <td>good</td>\n",
       "    </tr>\n",
       "    <tr>\n",
       "      <th>2</th>\n",
       "      <td>Veronica James</td>\n",
       "      <td>Is so beautiful whatsapp</td>\n",
       "      <td>5</td>\n",
       "      <td>0</td>\n",
       "      <td>2.22.9.78</td>\n",
       "      <td>8/2/2022 17:00</td>\n",
       "      <td>good</td>\n",
       "    </tr>\n",
       "    <tr>\n",
       "      <th>3</th>\n",
       "      <td>Ggbeko Shigmah</td>\n",
       "      <td>It really helpful and fast</td>\n",
       "      <td>5</td>\n",
       "      <td>0</td>\n",
       "      <td>NaN</td>\n",
       "      <td>8/2/2022 17:00</td>\n",
       "      <td>good</td>\n",
       "    </tr>\n",
       "    <tr>\n",
       "      <th>4</th>\n",
       "      <td>Rudra Awasthi</td>\n",
       "      <td>Very useful for us no another words</td>\n",
       "      <td>5</td>\n",
       "      <td>0</td>\n",
       "      <td>2.22.15.74</td>\n",
       "      <td>8/2/2022 17:00</td>\n",
       "      <td>good</td>\n",
       "    </tr>\n",
       "  </tbody>\n",
       "</table>\n",
       "</div>"
      ],
      "text/plain": [
       "           userName                              content  score  \\\n",
       "0  Charles Ojegbulu                              Awesome      5   \n",
       "1       Linet Kendi                      It was the best      5   \n",
       "2    Veronica James             Is so beautiful whatsapp      5   \n",
       "3    Ggbeko Shigmah           It really helpful and fast      5   \n",
       "4     Rudra Awasthi  Very useful for us no another words      5   \n",
       "\n",
       "   thumbsUpCount reviewCreatedVersion              at rating_class  \n",
       "0              0           2.22.13.76  8/2/2022 17:00         good  \n",
       "1              0            2.22.3.77  8/2/2022 17:00         good  \n",
       "2              0            2.22.9.78  8/2/2022 17:00         good  \n",
       "3              0                  NaN  8/2/2022 17:00         good  \n",
       "4              0           2.22.15.74  8/2/2022 17:00         good  "
      ]
     },
     "execution_count": 11,
     "metadata": {},
     "output_type": "execute_result"
    }
   ],
   "source": [
    "##########################################\n",
    "## Classify rating scores as good or bad \n",
    "##########################################\n",
    "\n",
    "good_rate = len(whatsappData[whatsappData['score'] >= 3])\n",
    "bad_rate = len(whatsappData[whatsappData['score'] < 3])\n",
    "\n",
    "# Printing rates and their total numbers\n",
    "print ('Good ratings : {} reviews for Whatsapp App'.format(good_rate))\n",
    "print ('Bad ratings : {} reviews for Whatsapp App'.format(bad_rate))\n",
    "\n",
    "whatsappData['rating_class'] = whatsappData['score'].apply(lambda x: 'bad' if x < 3 else'good')\n",
    "whatsappData.head()\n"
   ]
  },
  {
   "cell_type": "code",
   "execution_count": 12,
   "metadata": {},
   "outputs": [
    {
     "data": {
      "text/plain": [
       "[146854, 79912, 68461, 65616, 63578, 54466, 45086, 43406, 40315, 40023]"
      ]
     },
     "execution_count": 12,
     "metadata": {},
     "output_type": "execute_result"
    }
   ],
   "source": [
    "##########################################\n",
    "## Top 10 thumbsUpCount for comments\n",
    "##########################################\n",
    "\n",
    "sorted(whatsappData.thumbsUpCount.unique(),reverse = True)[:10]"
   ]
  },
  {
   "cell_type": "code",
   "execution_count": 13,
   "metadata": {},
   "outputs": [
    {
     "data": {
      "text/html": [
       "<div>\n",
       "<style scoped>\n",
       "    .dataframe tbody tr th:only-of-type {\n",
       "        vertical-align: middle;\n",
       "    }\n",
       "\n",
       "    .dataframe tbody tr th {\n",
       "        vertical-align: top;\n",
       "    }\n",
       "\n",
       "    .dataframe thead th {\n",
       "        text-align: right;\n",
       "    }\n",
       "</style>\n",
       "<table border=\"1\" class=\"dataframe\">\n",
       "  <thead>\n",
       "    <tr style=\"text-align: right;\">\n",
       "      <th></th>\n",
       "      <th>userName</th>\n",
       "      <th>content</th>\n",
       "      <th>score</th>\n",
       "      <th>thumbsUpCount</th>\n",
       "      <th>reviewCreatedVersion</th>\n",
       "      <th>at</th>\n",
       "      <th>rating_class</th>\n",
       "    </tr>\n",
       "  </thead>\n",
       "  <tbody>\n",
       "    <tr>\n",
       "      <th>457746</th>\n",
       "      <td>A Google user</td>\n",
       "      <td>Good</td>\n",
       "      <td>5</td>\n",
       "      <td>0</td>\n",
       "      <td>2.22.10.73</td>\n",
       "      <td>5/26/2022 13:29</td>\n",
       "      <td>good</td>\n",
       "    </tr>\n",
       "    <tr>\n",
       "      <th>457749</th>\n",
       "      <td>A Google user</td>\n",
       "      <td>Good</td>\n",
       "      <td>4</td>\n",
       "      <td>0</td>\n",
       "      <td>2.22.10.73</td>\n",
       "      <td>5/26/2022 13:29</td>\n",
       "      <td>good</td>\n",
       "    </tr>\n",
       "  </tbody>\n",
       "</table>\n",
       "</div>"
      ],
      "text/plain": [
       "             userName content  score  thumbsUpCount reviewCreatedVersion  \\\n",
       "457746  A Google user    Good      5              0           2.22.10.73   \n",
       "457749  A Google user    Good      4              0           2.22.10.73   \n",
       "\n",
       "                     at rating_class  \n",
       "457746  5/26/2022 13:29         good  \n",
       "457749  5/26/2022 13:29         good  "
      ]
     },
     "execution_count": 13,
     "metadata": {},
     "output_type": "execute_result"
    }
   ],
   "source": [
    "##########################################\n",
    "# checking duplicates based on'userName', 'content' and 'at'columns\n",
    "##########################################\n",
    "\n",
    "whatsappData[whatsappData.duplicated(['userName', 'content','at'],keep= False)]"
   ]
  },
  {
   "cell_type": "code",
   "execution_count": 14,
   "metadata": {},
   "outputs": [
    {
     "name": "stdout",
     "output_type": "stream",
     "text": [
      "================================================\n",
      "Number of reviews:  804714\n",
      "\n",
      "Number of unique reviewers:  697501\n",
      "Prop of unique reviewers:  0.867\n",
      "\n",
      "Average rating score:  4.107\n",
      "================================================\n"
     ]
    }
   ],
   "source": [
    "##########################################\n",
    "## DESCRIPTIVE STATISTICS\n",
    "##########################################\n",
    "\n",
    "print (\"================================================\")\n",
    "\n",
    "### Total reviews\n",
    "total = len(whatsappData)\n",
    "print (\"Number of reviews: \",total)\n",
    "print ()\n",
    "\n",
    "### How many unique reviewers?\n",
    "print (\"Number of unique reviewers: \",len(whatsappData.userName.unique()))\n",
    "reviewer_prop = float(len(whatsappData.userName.unique())/total)\n",
    "print (\"Prop of unique reviewers: \",round(reviewer_prop,3))\n",
    "print ()\n",
    "\n",
    "### Average star score\n",
    "print (\"Average rating score: \",round(whatsappData.score.mean(),3))\n",
    "\n",
    "print (\"================================================\")"
   ]
  },
  {
   "cell_type": "code",
   "execution_count": 15,
   "metadata": {},
   "outputs": [
    {
     "data": {
      "text/plain": [
       "Text(0, 0.5, 'Number of Reviews')"
      ]
     },
     "execution_count": 15,
     "metadata": {},
     "output_type": "execute_result"
    },
    {
     "data": {
      "image/png": "[encoded data removed]",
      "text/plain": [
       "<Figure size 864x576 with 1 Axes>"
      ]
     },
     "metadata": {
      "needs_background": "light"
     },
     "output_type": "display_data"
    }
   ],
   "source": [
    "##########################################\n",
    "# Reviewers totals for each rating class\n",
    "##########################################\n",
    "plt.figure(figsize=(12,8))\n",
    "sns.countplot(whatsappData.rating_class)\n",
    "plt.title('Distribution of Rating')\n",
    "plt.xlabel('Rating')\n",
    "plt.ylabel('Number of Reviews')"
   ]
  },
  {
   "cell_type": "markdown",
   "metadata": {},
   "source": [
    "Bag of Words¶\n",
    "Our goal is to classify the reviews into positive and negative sentiment. There are two main steps involved. First, we need to find a word embedding to convert a text into a numerical representation. Second, we fit the numerical representations of text to machine learning algorithms or deep learning architectures.\n",
    "\n",
    "One common approach of word embedding is frequency based embedding such as Bag of Words (BoW) model. BoW model learns a vocubulary list from a given corpus and represents each document based on some counting methods of words. In this part, we will explore the model performance of using BoW with supervised learning algorithms. Here's the workflow in this part.\n",
    "\n",
    "Step 1 : Preprocess raw reviews to cleaned reviews\n",
    "\n",
    "Step 2 : Create BoW using CountVectorizer / Tfidfvectorizer in sklearn\n",
    "\n",
    "Step 3 : Transform review text to numerical representations (feature vectors)\n",
    "\n",
    "Step 4 : Fit feature vectors to supervised learning algorithm (eg. Naive Bayes, Logistic regression, etc.)\n",
    "\n",
    "Step 5 : Improve the model performance by GridSearch\n",
    "\n",
    "Text Preprocessing¶\n",
    "The following text preprocessing are implemented to convert raw reviews to cleaned review, so that it will be easier for us to do feature extraction in the next step.\n"
   ]
  },
  {
   "cell_type": "code",
   "execution_count": 16,
   "metadata": {},
   "outputs": [
    {
     "name": "stderr",
     "output_type": "stream",
     "text": [
      "[nltk_data] Downloading package punkt to\n",
      "[nltk_data]     C:\\Users\\jsaum\\AppData\\Roaming\\nltk_data...\n",
      "[nltk_data]   Package punkt is already up-to-date!\n",
      "[nltk_data] Downloading package stopwords to\n",
      "[nltk_data]     C:\\Users\\jsaum\\AppData\\Roaming\\nltk_data...\n",
      "[nltk_data]   Package stopwords is already up-to-date!\n",
      "[nltk_data] Downloading package wordnet to\n",
      "[nltk_data]     C:\\Users\\jsaum\\AppData\\Roaming\\nltk_data...\n",
      "[nltk_data]   Package wordnet is already up-to-date!\n"
     ]
    }
   ],
   "source": [
    "import nltk\n",
    "nltk.download('punkt')\n",
    "nltk.download('stopwords')\n",
    "nltk.download('wordnet')\n",
    "from nltk.corpus import stopwords\n",
    "from bs4 import BeautifulSoup\n",
    "import unicodedata\n",
    "import contractions\n",
    "from nltk.tokenize import word_tokenize, sent_tokenize, regexp_tokenize \n",
    "from nltk.stem import PorterStemmer, WordNetLemmatizer\n",
    "from nltk.stem.lancaster import LancasterStemmer\n",
    "import re, string"
   ]
  },
  {
   "cell_type": "code",
   "execution_count": 17,
   "metadata": {},
   "outputs": [],
   "source": [
    "from contractions import contractions_dict\n",
    "# calculate raw tokens in order to measure of cleaned tokens"
   ]
  },
  {
   "cell_type": "code",
   "execution_count": 18,
   "metadata": {},
   "outputs": [
    {
     "name": "stdout",
     "output_type": "stream",
     "text": [
      "Number of raw tokens: 3924742\n"
     ]
    }
   ],
   "source": [
    "from nltk.tokenize import word_tokenize\n",
    "raw_tokens=len([w for t in (whatsappData[\"content\"].apply(word_tokenize)) for w in t])\n",
    "print('Number of raw tokens: {}'.format(raw_tokens))"
   ]
  },
  {
   "cell_type": "markdown",
   "metadata": {},
   "source": [
    "Functions for Preprocessing¶\n",
    "Expanding Contractions¶\n",
    "Contractions are shortened version of words or syllables. They exist in either written or spoken forms. Shortened versions of existing words are created by removing specific letters and sounds. In case of English contractions, they are often created by removing one of the vowels from the word.\n",
    "\n",
    "By nature, contractions do pose a problem for NLP and text analytics because, to start with, we have a special apostrophe character in the word. Ideally, we can have a proper mapping for contractions and their corresponding expansions and then use it to expand all the contractions in our text.\n",
    "\n",
    "Removing Special Characters¶\n",
    "One important task in text normalization involves removing unnecessary and special characters. These may be special symbols or even punctuation that occurs in sentences. This step is often performed before or after tokenization. The main reason for doing so is because often punctuation or special characters do not have much significance when we analyze the text and utilize it for extracting features or information based on NLP and ML.\n",
    "\n",
    "Tokenizing Text¶\n",
    "Tokenization can be defined as the process of breaking down or splitting textual data into smaller meaningful components called tokens.\n",
    "\n",
    "Sentence tokenization is the process of splitting a text corpus into sentences that act as the first level of tokens which the corpus is comprised of. This is also known as sentence segmentation , because we try to segment the text into meaningful sentences.\n",
    "\n",
    "Word tokenization is the process of splitting or segmenting sentences into their constituent words. A sentence is a collection of words, and with tokenization we essentially split a sentence into a list of words that can be used to reconstruct the sentence.\n",
    "\n",
    "Removing Stopwords¶\n",
    "Stopwords are words that have little or no significance. They are usually removed from text during processing so as to retain words having maximum significance and context. Stopwords are usually words that end up occurring the most if you aggregated any corpus of text based on singular tokens and checked their frequencies. Words like a, the , me , and so on are stopwords.\n",
    "\n",
    "Correcting Words¶\n",
    "One of the main challenges faced in text normalization is the presence of incorrect words in the text. The definition of incorrect here covers words that have spelling mistakes as well as words with several letters repeated that do not contribute much to its overall significance.\n",
    "\n",
    "Correcting Repeating Characters\n",
    "Correcting Spellings\n",
    "Lemmatization¶\n",
    "The process of lemmatization is to remove word affixes to get to a base form of the word. The base form is also known as the root word, or the lemma, will always be present in the dictionary.\n"
   ]
  },
  {
   "cell_type": "code",
   "execution_count": 73,
   "metadata": {},
   "outputs": [],
   "source": [
    "def strip_html(text):\n",
    "    try:\n",
    "        soup = BeautifulSoup(text, \"html.parser\")\n",
    "        return soup.get_text()\n",
    "    except Exception as e:\n",
    "        print(\"Exception found for strip_html: \",text)\n",
    "\n",
    "        \n",
    "def remove_between_square_brackets(text):\n",
    "    try:\n",
    "        return re.sub('\\[[^]]*\\]', '', text)\n",
    "    except Exception as e:\n",
    "        print(\"Exception found for remove_between_square_brackets: \",text)\n",
    "\n",
    "\n",
    "def denoise_text(text):\n",
    "    try:\n",
    "        text = strip_html(text)\n",
    "        text = remove_between_square_brackets(text)\n",
    "        return text\n",
    "    except Exception as e:\n",
    "        print(\"Exception found for denoise_text: \",text)\n",
    "\n",
    "\n",
    "# Define function to expand contractions\n",
    "def expand_contractions(text):\n",
    "    try:\n",
    "        expanded_text = contractions.fix(text)\n",
    "        return expanded_text\n",
    "    except Exception as e:\n",
    "        print(\"Exception found for expand_contractions: \",text)\n",
    "\n",
    "\n",
    "# special_characters removal\n",
    "def remove_special_characters(text, remove_digits=True):\n",
    "    try:\n",
    "        pattern = r'[^a-zA-z0-9\\s]' if not remove_digits else r'[^a-zA-z\\s]'\n",
    "        text = re.sub(pattern, '', text)\n",
    "        return text\n",
    "    except Exception as e:\n",
    "        print(\"Exception to remove_special_characters: \",text)\n",
    "\n",
    "\n",
    "def remove_non_ascii(words):\n",
    "    \"\"\"Remove non-ASCII characters from list of tokenized words\"\"\"\n",
    "    try:\n",
    "        new_words = []\n",
    "        for word in words:\n",
    "            new_word = unicodedata.normalize('NFKD', word).encode('ascii', 'ignore').decode('utf-8', 'ignore')\n",
    "            new_words.append(new_word)\n",
    "        return new_words\n",
    "    except Exception as e:\n",
    "        print(\"Exception to remove_non_ascii: \",words)\n",
    "\n",
    "\n",
    "def to_lowercase(words):\n",
    "    \"\"\"Convert all characters to lowercase from list of tokenized words\"\"\"\n",
    "    try:\n",
    "        new_words = []\n",
    "        for word in words:\n",
    "            new_word = word.lower()\n",
    "            new_words.append(new_word)\n",
    "        return new_words\n",
    "    except Exception as e:\n",
    "        print(\"Exception to to_lowercase: \",words)\n",
    "\n",
    "\n",
    "\n",
    "def remove_punctuation_and_splchars(words):\n",
    "    \"\"\"Remove punctuation from list of tokenized words\"\"\"\n",
    "    try:\n",
    "        new_words = []\n",
    "        for word in words:\n",
    "            new_word = re.sub(r'[^\\w\\s]', '', word)\n",
    "            if new_word != '':\n",
    "                new_word = remove_special_characters(new_word, True)\n",
    "                new_words.append(new_word)\n",
    "        return new_words\n",
    "    except Exception as e:\n",
    "        print(\"Exception to remove_punctuation_and_splchars: \",words)\n",
    "\n",
    "\n",
    "def replace_numbers(words):\n",
    "    \"\"\"Replace all interger occurrences in list of tokenized words with textual representation\"\"\"\n",
    "    try:\n",
    "        p = inflect.engine()\n",
    "        new_words = []\n",
    "        for word in words:\n",
    "            if word.isdigit():\n",
    "                new_word = p.number_to_words(word)\n",
    "                new_words.append(new_word)\n",
    "            else:\n",
    "                new_words.append(word)\n",
    "        return new_words\n",
    "    except Exception as e:\n",
    "        print(\"Exception to replace_numbers: \",words)\n",
    "\n",
    "\n",
    "stopword_list= stopwords.words('english')\n",
    "stopword_list.remove('no')\n",
    "stopword_list.remove('not')\n",
    "\n",
    "def remove_stopwords(words):\n",
    "    \"\"\"Remove stop words from list of tokenized words\"\"\"\n",
    "    try:\n",
    "        new_words = []\n",
    "        for word in words:\n",
    "            if word not in stopword_list:\n",
    "                new_words.append(word)\n",
    "        return new_words\n",
    "    except Exception as e:\n",
    "        print(\"Exception to remove_stopwords: \",words)\n",
    "\n",
    "\n",
    "def stem_words(words):\n",
    "    \"\"\"Stem words in list of tokenized words\"\"\"\n",
    "    try:\n",
    "        stemmer = LancasterStemmer()\n",
    "        stems = []\n",
    "        for word in words:\n",
    "            stem = stemmer.stem(word)\n",
    "            stems.append(stem)\n",
    "        return stems\n",
    "    except Exception as e:\n",
    "        print(\"Exception to stem_words: \",words)\n",
    "    \n",
    "\n",
    "def lemmatize_verbs(words):\n",
    "    \"\"\"Lemmatize verbs in list of tokenized words\"\"\"\n",
    "    try:\n",
    "        lemmatizer = WordNetLemmatizer()\n",
    "        lemmas = []\n",
    "        for word in words:\n",
    "            lemma = lemmatizer.lemmatize(word, pos='v')\n",
    "            lemmas.append(lemma)\n",
    "        return lemmas\n",
    "    except Exception as e:\n",
    "        print(\"Exception to lemmatize_verbs: \",words)\n",
    "    \n",
    "\n",
    "def normalize(words):\n",
    "    try:\n",
    "        words = remove_non_ascii(words)\n",
    "        words = to_lowercase(words)\n",
    "        words = remove_punctuation_and_splchars(words)\n",
    "        words = remove_stopwords(words)\n",
    "        return words\n",
    "    except Exception as e:\n",
    "        print(\"Exception to normalize: \",words)\n",
    "    \n",
    "\n",
    "def lemmatize(words):\n",
    "    try:\n",
    "        lemmas = lemmatize_verbs(words)\n",
    "        return lemmas\n",
    "    except Exception as e:\n",
    "        print(\"Exception to lemmatize: \",words)\n",
    "    \n",
    "\n",
    "def normalize_and_lemmaize(input):\n",
    "    try:\n",
    "        sample = denoise_text(input)\n",
    "        sample = expand_contractions(sample)\n",
    "        sample = remove_special_characters(sample)\n",
    "        words = nltk.word_tokenize(sample)\n",
    "        words = normalize(words)\n",
    "        lemmas = lemmatize(words)\n",
    "        return ' '.join(lemmas)\n",
    "    except Exception as e:\n",
    "        print(\"Exception to normalize_and_lemmaize: \",input)"
   ]
  },
  {
   "cell_type": "code",
   "execution_count": 75,
   "metadata": {},
   "outputs": [
    {
     "name": "stdout",
     "output_type": "stream",
     "text": [
      "Exception found for expand_contractions:  Adİm mEhmEt ÖzbEk, uygUlaMayı 1971 tariHinDe 25:00 dA indirDim, kŞisel BilgiLerİnimiN kuLlanıLmasIna İzniNiz YoktUr, kullAnıldığınDa BoDruM kaTıma'a daVa sürEci BaşLatırIm.\n",
      "Exception to remove_special_characters:  None\n",
      "Exception to normalize_and_lemmaize:  Adİm mEhmEt ÖzbEk, uygUlaMayı 1971 tariHinDe 25:00 dA indirDim, kŞisel BilgiLerİnimiN kuLlanıLmasIna İzniNiz YoktUr, kullAnıldığınDa BoDruM kaTıma'a daVa sürEci BaşLatırIm.\n",
      "Exception found for expand_contractions:  İt's very basic program as well as chat Storage is very big problem When you delete something the main document also deleted. When delete message sth is remain. Grup participants are limited. There is no chanel system\n",
      "Exception to remove_special_characters:  None\n",
      "Exception to normalize_and_lemmaize:  İt's very basic program as well as chat Storage is very big problem When you delete something the main document also deleted. When delete message sth is remain. Grup participants are limited. There is no chanel system\n"
     ]
    }
   ],
   "source": [
    "clean_text = whatsappData['content'].map(lambda text: normalize_and_lemmaize(text))"
   ]
  },
  {
   "cell_type": "code",
   "execution_count": 78,
   "metadata": {},
   "outputs": [],
   "source": [
    "whatsappData['clean_text'] = clean_text"
   ]
  },
  {
   "cell_type": "code",
   "execution_count": 79,
   "metadata": {},
   "outputs": [
    {
     "data": {
      "text/html": [
       "<div>\n",
       "<style scoped>\n",
       "    .dataframe tbody tr th:only-of-type {\n",
       "        vertical-align: middle;\n",
       "    }\n",
       "\n",
       "    .dataframe tbody tr th {\n",
       "        vertical-align: top;\n",
       "    }\n",
       "\n",
       "    .dataframe thead th {\n",
       "        text-align: right;\n",
       "    }\n",
       "</style>\n",
       "<table border=\"1\" class=\"dataframe\">\n",
       "  <thead>\n",
       "    <tr style=\"text-align: right;\">\n",
       "      <th></th>\n",
       "      <th>userName</th>\n",
       "      <th>content</th>\n",
       "      <th>score</th>\n",
       "      <th>thumbsUpCount</th>\n",
       "      <th>reviewCreatedVersion</th>\n",
       "      <th>at</th>\n",
       "      <th>rating_class</th>\n",
       "      <th>clean_text</th>\n",
       "    </tr>\n",
       "  </thead>\n",
       "  <tbody>\n",
       "    <tr>\n",
       "      <th>0</th>\n",
       "      <td>Charles Ojegbulu</td>\n",
       "      <td>Awesome</td>\n",
       "      <td>5</td>\n",
       "      <td>0</td>\n",
       "      <td>2.22.13.76</td>\n",
       "      <td>8/2/2022 17:00</td>\n",
       "      <td>good</td>\n",
       "      <td>awesome</td>\n",
       "    </tr>\n",
       "    <tr>\n",
       "      <th>1</th>\n",
       "      <td>Linet Kendi</td>\n",
       "      <td>It was the best</td>\n",
       "      <td>5</td>\n",
       "      <td>0</td>\n",
       "      <td>2.22.3.77</td>\n",
       "      <td>8/2/2022 17:00</td>\n",
       "      <td>good</td>\n",
       "      <td>best</td>\n",
       "    </tr>\n",
       "    <tr>\n",
       "      <th>2</th>\n",
       "      <td>Veronica James</td>\n",
       "      <td>Is so beautiful whatsapp</td>\n",
       "      <td>5</td>\n",
       "      <td>0</td>\n",
       "      <td>2.22.9.78</td>\n",
       "      <td>8/2/2022 17:00</td>\n",
       "      <td>good</td>\n",
       "      <td>beautiful whatsapp</td>\n",
       "    </tr>\n",
       "    <tr>\n",
       "      <th>3</th>\n",
       "      <td>Ggbeko Shigmah</td>\n",
       "      <td>It really helpful and fast</td>\n",
       "      <td>5</td>\n",
       "      <td>0</td>\n",
       "      <td>NaN</td>\n",
       "      <td>8/2/2022 17:00</td>\n",
       "      <td>good</td>\n",
       "      <td>really helpful fast</td>\n",
       "    </tr>\n",
       "    <tr>\n",
       "      <th>4</th>\n",
       "      <td>Rudra Awasthi</td>\n",
       "      <td>Very useful for us no another words</td>\n",
       "      <td>5</td>\n",
       "      <td>0</td>\n",
       "      <td>2.22.15.74</td>\n",
       "      <td>8/2/2022 17:00</td>\n",
       "      <td>good</td>\n",
       "      <td>useful us no another word</td>\n",
       "    </tr>\n",
       "  </tbody>\n",
       "</table>\n",
       "</div>"
      ],
      "text/plain": [
       "           userName                              content  score  \\\n",
       "0  Charles Ojegbulu                              Awesome      5   \n",
       "1       Linet Kendi                      It was the best      5   \n",
       "2    Veronica James             Is so beautiful whatsapp      5   \n",
       "3    Ggbeko Shigmah           It really helpful and fast      5   \n",
       "4     Rudra Awasthi  Very useful for us no another words      5   \n",
       "\n",
       "   thumbsUpCount reviewCreatedVersion              at rating_class  \\\n",
       "0              0           2.22.13.76  8/2/2022 17:00         good   \n",
       "1              0            2.22.3.77  8/2/2022 17:00         good   \n",
       "2              0            2.22.9.78  8/2/2022 17:00         good   \n",
       "3              0                  NaN  8/2/2022 17:00         good   \n",
       "4              0           2.22.15.74  8/2/2022 17:00         good   \n",
       "\n",
       "                  clean_text  \n",
       "0                    awesome  \n",
       "1                       best  \n",
       "2         beautiful whatsapp  \n",
       "3        really helpful fast  \n",
       "4  useful us no another word  "
      ]
     },
     "execution_count": 79,
     "metadata": {},
     "output_type": "execute_result"
    }
   ],
   "source": [
    "whatsappData.head()"
   ]
  },
  {
   "cell_type": "markdown",
   "metadata": {},
   "source": [
    "### Cleaning the text"
   ]
  },
  {
   "cell_type": "code",
   "execution_count": 84,
   "metadata": {},
   "outputs": [
    {
     "name": "stdout",
     "output_type": "stream",
     "text": [
      "Exception in word_tokenize:  None\n",
      "Exception in word_tokenize:  None\n",
      "Number of clean tokens: 804712\n",
      "\n",
      "Percentage of removed tokens: 0.79\n"
     ]
    }
   ],
   "source": [
    "# Let's put aside number of raw tokens in order to measure of cleaned tokens\n",
    "\n",
    "from nltk.tokenize import word_tokenize\n",
    "\n",
    "#clean_tokens=len([w for t in (whatsappData[\"clean_text\"].apply(word_tokenize)) for w in t])\n",
    "\n",
    "#print('Number of clean tokens: {}\\n'.format(clean_tokens))\n",
    "#print('Percentage of removed tokens: {0:.2f}'.format(1-(clean_tokens/raw_tokens)))\n",
    "\n",
    "clean_tokens = []\n",
    "for text in whatsappData[\"clean_text\"]:\n",
    "    try:\n",
    "        clean_tokens.append(word_tokenize(text))\n",
    "    except Exception as e:\n",
    "        print(\"Exception in word_tokenize: \", text)\n",
    "        \n",
    "print('Number of clean tokens: {}\\n'.format(len(clean_tokens)))\n",
    "print('Percentage of removed tokens: {0:.2f}'.format(1-(len(clean_tokens)/raw_tokens)))\n"
   ]
  },
  {
   "cell_type": "code",
   "execution_count": null,
   "metadata": {},
   "outputs": [],
   "source": []
  }
 ],
 "metadata": {
  "kernelspec": {
   "display_name": "Python 3",
   "language": "python",
   "name": "python3"
  },
  "language_info": {
   "codemirror_mode": {
    "name": "ipython",
    "version": 3
   },
   "file_extension": ".py",
   "mimetype": "text/x-python",
   "name": "python",
   "nbconvert_exporter": "python",
   "pygments_lexer": "ipython3",
   "version": "3.8.5"
  }
 },
 "nbformat": 4,
 "nbformat_minor": 4
}
